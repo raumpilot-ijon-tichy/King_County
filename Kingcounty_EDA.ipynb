{
 "cells": [
  {
   "cell_type": "code",
   "execution_count": null,
   "metadata": {
    "jupyter": {
     "source_hidden": true
    }
   },
   "outputs": [],
   "source": [
    "from IPython.display import Image\n",
    "from IPython.core.display import HTML\n",
    "\n",
    "Image(url= \"http://seattlestyleflooring.com/wp-content/uploads/2013/12/wideskyline-1080x300.jpg\")"
   ]
  },
  {
   "cell_type": "markdown",
   "metadata": {},
   "source": [
    "# ANALYZING THE KING COUNTY DATASET\n",
    "\n",
    "# Agenda\n",
    "\n",
    "* Reading Data\n",
    "* Understanding Data\n",
    "* Making Assumptions\n",
    "* Exploring Data\n",
    "    * Location\n",
    "    * Date\n",
    "    * ID\n",
    "    * Other Values\n",
    "* Cleaning and Validating Data\n",
    "* Identifying Relationsships Among Values\n",
    "* Verifying Assumptions\n",
    "    1. Rennovated houses will have better condition and grade\n",
    "    2. Unrenovated houses sell for less than similar, but renovated houses\n",
    "    3. Houses in expensive neighborhoods are more expensive per squarefoot (sqft) than similar houses in cheap neighborhoods\n",
    "    4. Prices for houses will increase over time because of urbanization and inflation\n",
    "    5. Prices for houses in expensive neighborhoods will increase faster than the prices in cheap neighborhoods\n",
    "* Recommendations for Client\n",
    "    * Limitations"
   ]
  },
  {
   "cell_type": "markdown",
   "metadata": {},
   "source": [
    "# Reading Data\n",
    "\n",
    "As a first step, we import the necessary Python packages like **pandas**, **numpy** and the general visualization packages."
   ]
  },
  {
   "cell_type": "code",
   "execution_count": null,
   "metadata": {},
   "outputs": [],
   "source": [
    "import pandas as pd\n",
    "import numpy as np\n",
    "import seaborn as sns \n",
    "import matplotlib.pyplot as plt\n",
    "import warnings\n",
    "warnings.filterwarnings('ignore')"
   ]
  },
  {
   "cell_type": "markdown",
   "metadata": {},
   "source": [
    "The we read in the data from the csv-file and take a first look at the size and the first rows."
   ]
  },
  {
   "cell_type": "code",
   "execution_count": null,
   "metadata": {},
   "outputs": [],
   "source": [
    "df_kc = pd.read_csv(\"~/neuefische/Kingcounty_EDA/King_County_House_prices_dataset.csv\")\n",
    "\n",
    "print(f\"The dataset contains {df_kc.shape[1]} columns and {df_kc.shape[0]:,} rows.\\n\")\n",
    "print(\"It contains the following columns:\", *df_kc.columns, \"\\n\")\n",
    "df_kc.head()"
   ]
  },
  {
   "cell_type": "markdown",
   "metadata": {},
   "source": [
    "# Understanding Data\n",
    "\n",
    "<details><summary>\n",
    "    Click here for the column names and descriptions for Kings-County dataset\n",
    "</summary>\n",
    "    <ol start=\"0\">\n",
    "        <li><b>id</b> - Unique identifier for a house</li>\n",
    "        <li><b>date</b> - Date teh house was sold</li>\n",
    "        <li><b>price</b> - Price the house was sold for; prediction target for this notebook</li>\n",
    "        <li><b>bedrooms</b> - Number of bedrooms per house</li>\n",
    "        <li><b>bathrooms</b> - Number of bathrooms per house</li>\n",
    "        <li><b>sqft_livingsquare</b> - Footage of the house</li>\n",
    "        <li><b>sqft_lotsquare</b> - Footage of the lot</li>\n",
    "        <li><b>floors</b> - Number of floors (or levels) in the house</li>\n",
    "        <li><b>waterfront</b> - If 1 house has is waterfront</li>\n",
    "        <li><b>view</b> - Number of times house has been viewed</li>\n",
    "        <li><b>condition</b> - Overall condition of the house</li>\n",
    "        <li><b>grade</b> - Overall grade given to the construction quality of the house, based on <a href=\"https://info.kingcounty.gov/assessor/esales/Glossary.aspx?type=r#g\">King County grading system</a>, higher values are better</li>\n",
    "        <li><b>sqft_above</b> - Square footage of the house apart from basement</li>\n",
    "        <li><b>sqft_basement</b> - Square footage of the basement</li>\n",
    "        <li><b>yr_built</b> - Year house was built</li>\n",
    "        <li><b>yr_renovated</b> - Year house was last renovated</li>\n",
    "        <li><b>zipcode</b> - Zip code the house is located in</li>\n",
    "        <li><b>lat</b> - Latitude coordinate of the houses location</li>\n",
    "        <li><b>long</b> - Longitude coordinate of the houses location</li>\n",
    "        <li><b>sqft_living15</b> - Mean square footage of living space for the nearest 15 neighbors</li>\n",
    "        <li><b>sqft_lot15</b> - Mean square footage of the land lots of the nearest 15 neighbors</li>\n",
    "    </ol>\n",
    "</details>\n",
    "<br>\n",
    "\n",
    "Now we check if the data was read in correctly. For this purpose, we are looking at the datatypes of the columns and the number of different values in the columns."
   ]
  },
  {
   "cell_type": "code",
   "execution_count": null,
   "metadata": {},
   "outputs": [],
   "source": [
    "df_kc.describe()"
   ]
  },
  {
   "cell_type": "code",
   "execution_count": null,
   "metadata": {},
   "outputs": [],
   "source": [
    "df_kc.info()"
   ]
  },
  {
   "cell_type": "markdown",
   "metadata": {},
   "source": [
    "From these outputs we can see that some columns have wrong datatypes or could be categories:\n",
    "\n",
    "* **id** and **zipcode** are not for counting and should be a string\n",
    "* **date** has to be a datetime-object\n",
    "* **price** can be an integer\n",
    "* **view** can be an integer, NaNs are assumed to mean \"not viewed\" an set to 0\n",
    "* **waterfront** is a binary category\n",
    "* **condition** and **grade** are categorical but we will leave them as integers, because they are ordered\n",
    "* **sqft_basement** is broken (not displayed in describe-method) and need to be fixed\n",
    "* **yr_renovated** can be an integer, NaNs are assumed to mean \"not renovated\" and will be put to \"yr_built\"\n",
    "\n",
    "That is why we have to reset some of the datatypes."
   ]
  },
  {
   "cell_type": "code",
   "execution_count": null,
   "metadata": {},
   "outputs": [],
   "source": [
    "df_kc[\"id\"] = df_kc[\"id\"].astype(\"str\")\n",
    "df_kc[\"date\"] = pd.to_datetime(df_kc[\"date\"]).dt.date\n",
    "df_kc[\"price\"] = df_kc[\"price\"].astype(\"int\")\n",
    "df_kc[\"waterfront\"] = df_kc[\"waterfront\"].astype(\"category\")\n",
    "df_kc[\"view\"] = df_kc[\"view\"].fillna(0).astype(\"int\")\n",
    "df_kc[\"sqft_basement\"] = pd.to_numeric(df_kc[\"sqft_basement\"], errors='coerce')\n",
    "df_kc[\"zipcode\"] = df_kc[\"zipcode\"].astype(\"str\")\n",
    "df_kc[\"yr_renovated\"] = df_kc[\"yr_renovated\"].fillna(0).astype(\"int\")"
   ]
  },
  {
   "cell_type": "markdown",
   "metadata": {},
   "source": [
    "**waterfront** and **sqft_basement** will still have missing values, but we will deal with this after exploring the dataset in more detail to assume the correct values."
   ]
  },
  {
   "cell_type": "markdown",
   "metadata": {},
   "source": [
    "# Making Assumptions\n",
    "\n",
    "The client is an investor and wants to do good. Therefore, she is looking for run-down houses in the poor neighborhoods. She wants to buy unrenovated hard-to-sell houses in these neighborhoods and then renovate them. She only wants small profits and is also willing to cross-finance. Based on this I made the following assumptions:\n",
    "\n",
    "1. Rennovated houses will have better condition and grade.\n",
    "2. Unrenovated houses sell for less than similar, but renovated houses.\n",
    "3. Houses in expensive neighborhoods are more expensive per squarefoot (sqft) than similar houses in cheap neighborhoods.\n",
    "4. Prices for houses will increase over time because of urbanization and inflation.\n",
    "5. Prices for houses in expensive neighborhoods will increase faster than the prices in cheap neighborhoods."
   ]
  },
  {
   "cell_type": "markdown",
   "metadata": {},
   "source": [
    "# Exploring Data"
   ]
  },
  {
   "cell_type": "markdown",
   "metadata": {},
   "source": [
    "## Location\n",
    "\n",
    "Since the most important things about houses are the location, the location and the location we will take a look at the houses on the map. For this we use the folium-package. This allows us to also display some information about the houses when moving with the cursor over a house on the map."
   ]
  },
  {
   "cell_type": "code",
   "execution_count": 1,
   "metadata": {},
   "outputs": [],
   "source": [
    "# Friendly borrowed from https://medium.com/@saidakbarp/interactive-map-visualization-with-folium-in-python-2e95544d8d9b\n",
    "\n",
    "import folium\n",
    "from folium.plugins import MarkerCluster\n",
    "\n",
    "# Set Seattle coordinates\n",
    "seattle_coord = [47.5000, -122.0000]\n",
    "\n",
    "# Build map\n",
    "#map_seattle = folium.Map(location=seattle_coord, zoom_start=9, tiles='cartodbpositron', width=880, height=480)\n",
    "\n",
    "# Add marker cluster\n",
    "#marker_cluster = MarkerCluster(maxClusterRadius=60, spiderfyOnMaxZoom=False).add_to(map_seattle)\n",
    "\n",
    "# Add house locations including tooltips\n",
    "#for i in range(df_kc.shape[0]):\n",
    "#    location = [df_kc[\"lat\"][i], df_kc[\"long\"][i]]\n",
    "#    tooltip = ''.join([f'Size: {df_kc[\"sqft_living\"][i]:,} sqft<br> Lot size: {df_kc[\"sqft_lot\"][i]:,} sqft<br>',\n",
    "#                       f'Floors: {df_kc[\"floors\"][i]}<br>',\n",
    "#                       f'Bedrooms: {df_kc[\"bedrooms\"][i]}<br> Bathrooms: {df_kc[\"bathrooms\"][i]}<br>',\n",
    "#                       f'Sold: {df_kc[\"date\"][i]}<br> Price: ${df_kc[\"price\"][i]:,}<br>'\n",
    "#                      ])\n",
    "#    folium.Marker(location, tooltip=tooltip).add_to(marker_cluster)\n",
    "\n",
    "# Add a title\n",
    "#title_html = '''\n",
    "#             <h3 align=\"center\" style=\"font-size:16px\">Locations of houses in King County dataset</h3>\n",
    "#             '''\n",
    "#map_seattle.get_root().html.add_child(folium.Element(title_html))\n",
    "\n",
    "# Display map in Jupyter\n",
    "#map_seattle"
   ]
  },
  {
   "cell_type": "markdown",
   "metadata": {},
   "source": [
    "We now know that we are looking at houses in the greater Seattle area. All **lat** and **long** values seem reasonable.\n",
    "\n",
    "## Date\n",
    "\n",
    "Let's take a look at the **date** column to see which timespan is covered by our dataset."
   ]
  },
  {
   "cell_type": "code",
   "execution_count": null,
   "metadata": {},
   "outputs": [],
   "source": [
    "print(f'First sale: {df_kc[\"date\"].min()}')\n",
    "print(f'Last sale: {df_kc[\"date\"].max()}')"
   ]
  },
  {
   "cell_type": "markdown",
   "metadata": {},
   "source": [
    "Our dataset covers sales betwenn May 2, 2014 and May 27, 2015. Let's see how the sales are distributed over this year. And because we haven't done this so far we need to import matplotlib and seaborn to plot nice charts."
   ]
  },
  {
   "cell_type": "code",
   "execution_count": null,
   "metadata": {},
   "outputs": [],
   "source": [
    "# Count sales per date\n",
    "sales_day = df_kc.groupby(\"date\").count()[\"id\"].reset_index()\n",
    "\n",
    "# Filter out days weekends\n",
    "sales_day = sales_day[sales_day[\"id\"] > 20]\n",
    "\n",
    "sns.set(rc={'figure.figsize':(15,5)})\n",
    "sns.lineplot(x=sales_day[\"date\"], y=sales_day[\"id\"])\n",
    "plt.xlabel(\"Date\")\n",
    "plt.ylabel(\"Number of sales per day\")\n",
    "plt.title(\"Sales per day\").set_size(16)"
   ]
  },
  {
   "cell_type": "markdown",
   "metadata": {},
   "source": [
    "We can see that sales are going down in January and February as well as the end of our dataset. The low numbers could be connected to high expenses during Christmas and the beginning of the new year. The step drop could be connected to the collection of data.\n",
    "\n",
    "## ID\n",
    "\n",
    "Let's take a look at the **id**. "
   ]
  },
  {
   "cell_type": "code",
   "execution_count": null,
   "metadata": {},
   "outputs": [],
   "source": [
    "print(df_kc[\"id\"].nunique())\n",
    "df_kc[\"id\"].unique()"
   ]
  },
  {
   "cell_type": "markdown",
   "metadata": {},
   "source": [
    "We see that there are only 21,420 **id**s for the houses, but there are 21,597 observations in the dataset. So some houses were sold multiple times in this timespan."
   ]
  },
  {
   "cell_type": "markdown",
   "metadata": {},
   "source": [
    "## Other Values\n",
    "\n",
    "This is not very big data and we do not have too many features. Thus, we can plot most of them and reach some useful analytical results. This way we may detect some possible outliers or decide to do normalization. We start with the describe-method and continue with a grid plot of histograms."
   ]
  },
  {
   "cell_type": "code",
   "execution_count": null,
   "metadata": {},
   "outputs": [],
   "source": [
    "hist_grid = df_kc[['price', 'bedrooms', 'bathrooms', 'sqft_living', 'sqft_lot', 'floors',\n",
    "                   'waterfront', 'view', 'condition', 'grade', 'sqft_above', 'sqft_basement',\n",
    "                   'yr_built', 'yr_renovated', 'sqft_living15', 'sqft_lot15'\n",
    "                  ]].hist(bins=25,figsize=(15,15),xlabelsize='10',ylabelsize='10',xrot=-15);\n",
    "\n",
    "[x.title.set_size(16) for x in hist_grid.ravel()];"
   ]
  },
  {
   "cell_type": "markdown",
   "metadata": {},
   "source": [
    "# Cleaning and Validating Data\n",
    "\n",
    "There are missing values in **waterfront**. We will fill these missing observations with 0, meaning the aren't waterfront."
   ]
  },
  {
   "cell_type": "code",
   "execution_count": null,
   "metadata": {},
   "outputs": [],
   "source": [
    "df_kc[\"waterfront\"] = df_kc[\"waterfront\"].fillna(0)\n",
    "\n",
    "#View houses with NaN in waterfront with FastMarkerCluster"
   ]
  },
  {
   "cell_type": "markdown",
   "metadata": {},
   "source": [
    "In addition, there are missing values in the column **sqft_basement**, too. We won't fill these NaNs because **sqft_basement** is a colinear variable anyways. This is because **sqft_basement** = **sqft_living** - **sqft_above**. We will just drop this variable."
   ]
  },
  {
   "cell_type": "code",
   "execution_count": null,
   "metadata": {},
   "outputs": [],
   "source": [
    "df_kc.drop([\"sqft_basement\"], axis=1, inplace=True)"
   ]
  },
  {
   "cell_type": "markdown",
   "metadata": {},
   "source": [
    "Also **yr_renovated** still includes a lot of 0s. We will assume that this means these houses weren't renovated. Therefore, we are setting the renovation date to the year the house was built."
   ]
  },
  {
   "cell_type": "code",
   "execution_count": null,
   "metadata": {},
   "outputs": [],
   "source": [
    "for i in range(df_kc.shape[0]):\n",
    "    if df_kc[\"yr_renovated\"][i] == 0:\n",
    "        df_kc[\"yr_renovated\"][i] = df_kc[\"yr_built\"][i]"
   ]
  },
  {
   "cell_type": "markdown",
   "metadata": {},
   "source": [
    "# Identifying Relationsships Among Values"
   ]
  },
  {
   "cell_type": "markdown",
   "metadata": {},
   "source": [
    "Before we look at the relationships among the values, we should introduce to new variables to get a better feeling for the prices of houses: The price per square feet of living space **pp_sqft_living** and the price per square feet of lot size **pp_sqft_lot**. These to variables will make comparing house prices easier."
   ]
  },
  {
   "cell_type": "code",
   "execution_count": null,
   "metadata": {},
   "outputs": [],
   "source": [
    "df_kc[\"pp_sqft_living\"] = df_kc[\"price\"] / df_kc[\"sqft_living\"]\n",
    "\n",
    "print(f'Cheapest house by sqft: {df_kc[\"pp_sqft_living\"].min():,.2f} $/sqft')\n",
    "print(f'Most expensive house by sqft: {df_kc[\"pp_sqft_living\"].max():,.2f} $/sqft')\n",
    "\n",
    "#sns.histplot(data=df_kc, x=\"pp_sqft_living\");\n",
    "sns.boxplot(data=df_kc, x=\"pp_sqft_living\");"
   ]
  },
  {
   "cell_type": "code",
   "execution_count": null,
   "metadata": {},
   "outputs": [],
   "source": [
    "df_kc[\"pp_sqft_lot\"] = df_kc[\"price\"] / df_kc[\"sqft_lot\"]\n",
    "\n",
    "print(f'Cheapest lot by sqft: {df_kc[\"pp_sqft_lot\"].min():,.2f} $/sqft')\n",
    "print(f'Most expensive lot by sqft: {df_kc[\"pp_sqft_lot\"].max():,.2f} $/sqft')\n",
    "\n",
    "#sns.histplot(data=df_kc, x=\"pp_sqft_lot\");\n",
    "sns.boxplot(data=df_kc, x=\"pp_sqft_lot\");"
   ]
  },
  {
   "cell_type": "markdown",
   "metadata": {},
   "source": [
    "Another important thing is correlation. If there is very high correlation between two features, keeping both of them is not a good idea most of the time not to cause overfitting. For instance, if there is overfitting, we may remove sqt_above or sqt_living because they are highly correlated. This relation can be estimated when we look at the definitions in the dataset but to be sure correlation matrix should be checked. However, this does not mean that you must remove one of the highly correlated features. For example: bathrooms and sqrt_living. They are highly correlated but I do not think that the relation among them is the same as the relation between sqt_living and sqt_above."
   ]
  },
  {
   "cell_type": "code",
   "execution_count": null,
   "metadata": {
    "jupyter": {
     "source_hidden": true
    }
   },
   "outputs": [],
   "source": [
    "features = [\"price\", \"bedrooms\", \"bathrooms\", \"sqft_living\", \"sqft_lot\", \"floors\",\n",
    "            \"waterfront\", \"view\", \"condition\", \"grade\", \"sqft_above\", \"yr_built\",\n",
    "            \"yr_renovated\", \"zipcode\", \"lat\", \"long\", \"sqft_living15\", \"sqft_lot15\",\n",
    "            \"pp_sqft_living\", \"pp_sqft_lot\"\n",
    "           ]\n",
    "\n",
    "mask = np.zeros_like(df_kc[features].corr(), dtype=np.bool) \n",
    "mask[np.triu_indices_from(mask)] = True \n",
    "\n",
    "f, ax = plt.subplots(figsize=(15, 12))\n",
    "plt.title('Pearson Correlation Matrix',fontsize=16)\n",
    "\n",
    "sns.heatmap(df_kc[features].corr(), linewidths=0.25, cmap=\"Blues\", annot=True, annot_kws={\"size\":8}, mask=mask, cbar_kws={\"shrink\": .9});"
   ]
  },
  {
   "cell_type": "code",
   "execution_count": null,
   "metadata": {},
   "outputs": [],
   "source": [
    "#sns.pairplot(df_kc[[\"price\", \"bedrooms\", \"bathrooms\", \"sqft_living\",\n",
    "#                    \"sqft_lot\", \"sqft_above\", \"sqft_living15\", \"sqft_lot15\"\n",
    "#                   ]]);"
   ]
  },
  {
   "cell_type": "markdown",
   "metadata": {},
   "source": [
    "# Verifying Assumptions\n",
    "\n",
    "## 1. Rennovated houses will have better condition and grade\n",
    "\n",
    "As renovated houses we will count houses that were renovated or built not more than ten years before the sale. We will add an extra column to capture this."
   ]
  },
  {
   "cell_type": "code",
   "execution_count": null,
   "metadata": {},
   "outputs": [],
   "source": [
    "recently_renovated = []\n",
    "\n",
    "for i in range(df_kc.shape[0]):\n",
    "    if (df_kc[\"date\"][i].year - df_kc[\"yr_renovated\"][i]) <= 10:\n",
    "        recently_renovated.append(1)\n",
    "    else:\n",
    "        recently_renovated.append(0)\n",
    "\n",
    "df_kc[\"recently_renovated\"] = recently_renovated\n",
    "df_kc.recently_renovated.value_counts()"
   ]
  },
  {
   "cell_type": "markdown",
   "metadata": {},
   "source": [
    "3,738 houses were renovated 10 years before they were sold. Now we group by this new variable and look at the mean **condition** and **grade**."
   ]
  },
  {
   "cell_type": "code",
   "execution_count": null,
   "metadata": {},
   "outputs": [],
   "source": [
    "df_kc.groupby(\"recently_renovated\").mean()[[\"condition\", \"grade\"]].reset_index()"
   ]
  },
  {
   "cell_type": "markdown",
   "metadata": {},
   "source": [
    "The mean **grade** following the King County grading system is higher for recently renovated houses than for not renovated houses. This assumption is therefore correct: Renovated or fresh built houses have a higher construction quality."
   ]
  },
  {
   "cell_type": "markdown",
   "metadata": {},
   "source": [
    "## 2. Unrenovated houses sell for less than similar, but renovated houses"
   ]
  },
  {
   "cell_type": "code",
   "execution_count": null,
   "metadata": {
    "jupyter": {
     "source_hidden": true
    }
   },
   "outputs": [],
   "source": [
    "rr_bedroom = df_kc.groupby([\"bedrooms\", \"recently_renovated\"]).mean()[\"pp_sqft_living\"].reset_index()\n",
    "\n",
    "sns.barplot(x=\"bedrooms\", y=\"pp_sqft_living\", hue=\"recently_renovated\", data=rr_bedroom);"
   ]
  },
  {
   "cell_type": "markdown",
   "metadata": {},
   "source": [
    "It looks like houses with 7 bedrooms or more have a higher value when they are renovated."
   ]
  },
  {
   "cell_type": "code",
   "execution_count": null,
   "metadata": {
    "jupyter": {
     "source_hidden": true
    }
   },
   "outputs": [],
   "source": [
    "rr_bathroom = df_kc.groupby([\"bathrooms\", \"recently_renovated\"]).mean()[\"pp_sqft_living\"].reset_index()\n",
    "\n",
    "sns.barplot(x=\"bathrooms\", y=\"pp_sqft_living\", hue=\"recently_renovated\", data=rr_bathroom);"
   ]
  },
  {
   "cell_type": "markdown",
   "metadata": {},
   "source": [
    "Similarly, renovated houses seem to sell for higher prices when they have less than 2.5 or more than 4.5 bathrooms. However, this is not very clear, but rather a tendency."
   ]
  },
  {
   "cell_type": "markdown",
   "metadata": {},
   "source": [
    "## 3. Houses in expensive neighborhoods are more expensive per squarefoot (sqft) than similar houses in cheap neighborhoods\n",
    "\n",
    "Cheap neighborhoods are defined by the relatively low price of the houses. The threshold is set at $300,000."
   ]
  },
  {
   "cell_type": "code",
   "execution_count": null,
   "metadata": {},
   "outputs": [],
   "source": [
    "df_kc_zip = df_kc.groupby(\"zipcode\").mean()[[\"price\", \"pp_sqft_living\"]].reset_index()\n",
    "df_kc_zip.sort_values(by=\"price\", ascending=False)"
   ]
  },
  {
   "cell_type": "code",
   "execution_count": null,
   "metadata": {},
   "outputs": [],
   "source": [
    "cheap_neighborhood = []\n",
    "\n",
    "for i in range(df_kc_zip.shape[0]):\n",
    "    if df_kc_zip[\"price\"][i] < 300000:\n",
    "        cheap_neighborhood.append(1)\n",
    "    else:\n",
    "        cheap_neighborhood.append(0)\n",
    "\n",
    "df_kc_zip[\"cheap_neighborhood\"] = cheap_neighborhood\n",
    "df_kc_zip.cheap_neighborhood.value_counts()"
   ]
  },
  {
   "cell_type": "code",
   "execution_count": null,
   "metadata": {},
   "outputs": [],
   "source": [
    "df_kc_zip.groupby(\"cheap_neighborhood\").mean()[\"pp_sqft_living\"].reset_index()"
   ]
  },
  {
   "cell_type": "markdown",
   "metadata": {},
   "source": [
    "## 4. Prices for houses will increase over time because of urbanization and inflation"
   ]
  },
  {
   "cell_type": "code",
   "execution_count": null,
   "metadata": {},
   "outputs": [],
   "source": [
    "# Calculate mean sales price per date\n",
    "price_day = df_kc.groupby(\"date\").mean()[\"price\"].reset_index()\n",
    "\n",
    "#sns.set(rc={'figure.figsize':(15,5)})\n",
    "sns.lineplot(x=price_day[\"date\"], y=price_day[\"price\"])\n",
    "plt.xlabel(\"Date\")\n",
    "plt.ylabel(\"Mean sales price per day\")\n",
    "plt.title(\"Mean sales price per day\").set_size(16)"
   ]
  },
  {
   "cell_type": "markdown",
   "metadata": {},
   "source": [
    "Sales prices have been stable over the period of the year and have not risen. However, this does not mean that prices are not generally rising. But this is probably only visible over a longer period of time.\n",
    "\n",
    "We take a look at the houses sold multiple times: It seems that the houses are sold again for higher prices."
   ]
  },
  {
   "cell_type": "code",
   "execution_count": null,
   "metadata": {
    "jupyter": {
     "source_hidden": true
    }
   },
   "outputs": [],
   "source": [
    "sold_multi = df_kc.groupby(\"id\").count()[\"date\"].reset_index()\n",
    "list_sold_multi = sold_multi[sold_multi[\"date\"] > 1][\"id\"].values\n",
    "df_kc[df_kc[\"id\"].isin(list_sold_multi)].head(10)"
   ]
  },
  {
   "cell_type": "markdown",
   "metadata": {},
   "source": [
    "## 5. Prices for houses in expensive neighborhoods will increase faster than the prices in cheap neighborhoods"
   ]
  },
  {
   "cell_type": "code",
   "execution_count": null,
   "metadata": {
    "jupyter": {
     "source_hidden": true
    }
   },
   "outputs": [],
   "source": [
    "df_kc = df_kc.merge(df_kc_zip[[\"zipcode\", \"cheap_neighborhood\"]], on=\"zipcode\")\n",
    "#df_kc.head()"
   ]
  },
  {
   "cell_type": "code",
   "execution_count": null,
   "metadata": {},
   "outputs": [],
   "source": [
    "# Calculate mean sales price per date\n",
    "price_day_cheap = df_kc.groupby([\"date\", \"cheap_neighborhood\"]).mean()[[\"price\"]].reset_index()\n",
    "price_day_cheap\n",
    "\n",
    "#sns.set(rc={'figure.figsize':(15,5)})\n",
    "sns.lineplot(x=\"date\", y=\"price\", hue=\"cheap_neighborhood\", data=price_day_cheap)\n",
    "plt.xlabel(\"Date\")\n",
    "plt.ylabel(\"Mean sales price per day\")\n",
    "plt.title(\"Mean sales price per day\").set_size(16)"
   ]
  },
  {
   "cell_type": "markdown",
   "metadata": {},
   "source": [
    "This assumption seems to be false. The price development in cheaper neighborhoods is constant and parallel to the price development in the expensive neighborhoods."
   ]
  },
  {
   "cell_type": "markdown",
   "metadata": {},
   "source": [
    "## Recommendations for Client\n",
    "\n",
    "We are looking at the cheapest neighborhoods by total sales price:"
   ]
  },
  {
   "cell_type": "code",
   "execution_count": null,
   "metadata": {},
   "outputs": [],
   "source": [
    "# Build new map for recommendation\n",
    "#map_seattle_rec2 = folium.Map(location=seattle_coord, zoom_start=9, tiles='cartodbpositron', width=880, height=480)\n",
    "\n",
    "# Add Choropleth map with zipcodes and mean prices per sqft\n",
    "#folium.Choropleth(geo_data=\"wa_washington_zip_codes_geo.geojson\", # source: https://github.com/OpenDataDE/State-zip-code-GeoJSON/blob/master/wa_washington_zip_codes_geo.min.json\n",
    "#                  data=df_kc_zip,\n",
    "#                  columns=[\"zipcode\", \"price\"], # zip code is here for matching the geojson zipcode, price is the column that changes the color of zipcode areas\n",
    "#                  key_on=\"feature.properties.ZCTA5CE10\", # this path contains zipcodes in str type, this zipcodes should match with our ZIP CODE column\n",
    "#                  bins=6, fill_opacity=0.6, line_opacity=0.2, nan_fill_color=\"PapayaWhip\",\n",
    "#                  legend_name=\"Price\"\n",
    "#                 ).add_to(map_seattle_rec2)\n",
    "\n",
    "# Add a title\n",
    "#title_html = '''\n",
    "#             <h3 align=\"center\" style=\"font-size:16px\">Mean sales price by zipcode</h3>\n",
    "#             '''\n",
    "#map_seattle_rec2.get_root().html.add_child(folium.Element(title_html))\n",
    "\n",
    "# Display map in Jupyter\n",
    "#map_seattle_rec2"
   ]
  },
  {
   "cell_type": "markdown",
   "metadata": {},
   "source": [
    "We see a lot of cheaper neighborhoods, especially in the south. It might be hard to choose the neighboorhood needing the most help. Also, total sales prices are distorted by the size of the house. So let's take a look at the prices per square footage of living space."
   ]
  },
  {
   "cell_type": "code",
   "execution_count": 1,
   "metadata": {},
   "outputs": [],
   "source": [
    "# Build new map for recommendation\n",
    "#map_seattle_rec = folium.Map(location=seattle_coord, zoom_start=9, tiles='cartodbpositron', width=880, height=480)\n",
    "\n",
    "# Add marker cluster\n",
    "#marker_cluster_rec = MarkerCluster(maxClusterRadius=60, spiderfyOnMaxZoom=False).add_to(map_seattle_rec)\n",
    "\n",
    "# Add Choropleth map with zipcodes and mean prices per sqft\n",
    "#folium.Choropleth(geo_data=\"wa_washington_zip_codes_geo.geojson\", # source: https://github.com/OpenDataDE/State-zip-code-GeoJSON/blob/master/wa_washington_zip_codes_geo.min.json\n",
    "#                  data=df_kc_zip,\n",
    "#                  columns=[\"zipcode\", \"pp_sqft_living\"], # zip code is here for matching the geojson zipcode, price is the column that changes the color of zipcode areas\n",
    "#                  key_on=\"feature.properties.ZCTA5CE10\", # this path contains zipcodes in str type, this zipcodes should match with our ZIP CODE column\n",
    "#                  bins=8, fill_opacity=0.7, line_opacity=0.2, nan_fill_color=\"PapayaWhip\",\n",
    "#                  legend_name=\"Price per sqft\"\n",
    "#                 ).add_to(map_seattle_rec)\n",
    "\n",
    "# Add a title\n",
    "#title_html = '''\n",
    "#             <h3 align=\"center\" style=\"font-size:16px\">Mean sales price per sqft by zipcode</h3>\n",
    "#             '''\n",
    "#map_seattle_rec.get_root().html.add_child(folium.Element(title_html))\n",
    "\n",
    "# Display map in Jupyter\n",
    "#map_seattle_rec"
   ]
  },
  {
   "cell_type": "markdown",
   "metadata": {},
   "source": [
    "Houses in the west of Seattles downtown are not as expensive in total prices as the ones in downtown. But since they seem to be smaller, their prices per square footage of living space is also very high. The same applies to the houses in the east of Seattle. Just the south has lower prices in total and per square footage.\n",
    "\n",
    "The client should by in these areas, to really help develop cheaper neighborhoods.\n",
    "\n",
    "Let's now take a look at the 100 cheapest houses by price per square footage:"
   ]
  },
  {
   "cell_type": "code",
   "execution_count": null,
   "metadata": {
    "jupyter": {
     "source_hidden": true
    }
   },
   "outputs": [],
   "source": [
    "# Filter for cheapest and oldest houses in cheap_neighborhoods\n",
    "df_kc_cheap = df_kc[(df_kc[\"cheap_neighborhood\"] == 1) & (df_kc[\"pp_sqft_living\"] < 104.3)].reset_index()"
   ]
  },
  {
   "cell_type": "code",
   "execution_count": null,
   "metadata": {
    "jupyter": {
     "source_hidden": true
    }
   },
   "outputs": [],
   "source": [
    "# Add house locations including tooltips\n",
    "for i in range(df_kc_cheap.shape[0]):\n",
    "    location = [df_kc_cheap[\"lat\"][i], df_kc_cheap[\"long\"][i]]\n",
    "    tooltip = ''.join([f'Size: {df_kc_cheap[\"sqft_living\"][i]:,} sqft<br> Lot size: {df_kc_cheap[\"sqft_lot\"][i]:,} sqft<br>',\n",
    "                       f'Year renovated: {df_kc_cheap[\"yr_renovated\"][i]}<br>',\n",
    "                       f'Price: ${df_kc_cheap[\"price\"][i]:,}<br> Price per sqft: ${df_kc_cheap[\"pp_sqft_living\"][i]:,.2f}'\n",
    "                      ])\n",
    "    folium.Marker(location, tooltip=tooltip).add_to(marker_cluster_rec)\n",
    "\n",
    "# Displaying map in Jupyter\n",
    "map_seattle_rec"
   ]
  },
  {
   "cell_type": "markdown",
   "metadata": {},
   "source": [
    "The client should buy these houses, to help develop the cheap neighborhoods.\n",
    "\n",
    "Since there could be financial restrictions on the client, we should sort out the houses. We will sort these 100 houses by **yr_renovated** to find the most run-down houses:"
   ]
  },
  {
   "cell_type": "code",
   "execution_count": null,
   "metadata": {},
   "outputs": [],
   "source": [
    "df_kc_cheap_old = df_kc_cheap[df_kc_cheap[\"cheap_neighborhood\"] == 1].sort_values(\"yr_renovated\").reset_index()\n",
    "df_kc_cheap_old.drop([\"level_0\", \"index\", \"date\", \"view\", \"condition\", \"lat\", \"long\", \"sqft_living15\", \"sqft_lot15\", \"recently_renovated\", \"cheap_neighborhood\"], axis=1, inplace=True)\n",
    "df_kc_cheap_old.head(10)"
   ]
  },
  {
   "cell_type": "markdown",
   "metadata": {},
   "source": [
    "## Limitations\n",
    "\n",
    "A statement about unsaleable houses is not possible, because the provided data set contains only data about sold houses. The profit that can be earned by renovating houses cannot be calculated because the renovation costs are unknown."
   ]
  },
  {
   "cell_type": "code",
   "execution_count": null,
   "metadata": {},
   "outputs": [],
   "source": []
  }
 ],
 "metadata": {
  "kernelspec": {
   "display_name": "Python 3",
   "language": "python",
   "name": "python3"
  },
  "language_info": {
   "codemirror_mode": {
    "name": "ipython",
    "version": 3
   },
   "file_extension": ".py",
   "mimetype": "text/x-python",
   "name": "python",
   "nbconvert_exporter": "python",
   "pygments_lexer": "ipython3",
   "version": "3.8.5"
  }
 },
 "nbformat": 4,
 "nbformat_minor": 4
}
